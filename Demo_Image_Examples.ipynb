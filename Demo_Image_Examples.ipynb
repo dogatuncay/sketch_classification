{
 "cells": [
  {
   "cell_type": "code",
   "execution_count": 95,
   "metadata": {},
   "outputs": [],
   "source": [
    "import cv2\n",
    "import json\n",
    "import ast\n",
    "import numpy as np\n",
    "import pickle\n",
    "import pandas as pd\n",
    "import matplotlib.pyplot as plt\n",
    "plt.rcParams['figure.figsize'] = [5, 5]\n",
    "plt.rcParams['font.size'] = 12\n",
    "\n",
    "from tensorflow.keras.applications import MobileNet\n",
    "from tensorflow.keras.applications.mobilenet import preprocess_input"
   ]
  },
  {
   "cell_type": "code",
   "execution_count": 96,
   "metadata": {},
   "outputs": [],
   "source": [
    "def draw(raw_strokes, size=256, lw=6, time_color=True):\n",
    "    img = np.zeros((BASE_SIZE, BASE_SIZE), np.uint8)\n",
    "    for t, stroke in enumerate(raw_strokes):\n",
    "        for i in range(len(stroke[0]) - 1):\n",
    "            color = 255 - min(t, 10) * 13 if time_color else 255\n",
    "            _ = cv2.line(img, (stroke[0][i], stroke[1][i]), (stroke[0][i + 1], stroke[1][i + 1]), color, lw)\n",
    "    if size != BASE_SIZE:\n",
    "        return cv2.resize(img, (size, size))\n",
    "    else:\n",
    "        return img"
   ]
  },
  {
   "cell_type": "code",
   "execution_count": 97,
   "metadata": {},
   "outputs": [],
   "source": [
    "def top_3_predictions(predictions):\n",
    "    return np.argsort(-predictions, axis=1)[:, :3]"
   ]
  },
  {
   "cell_type": "code",
   "execution_count": 98,
   "metadata": {},
   "outputs": [],
   "source": [
    "SIZE = 64\n",
    "BASE_SIZE = 256\n",
    "N_LABELS = 340"
   ]
  },
  {
   "cell_type": "markdown",
   "metadata": {},
   "source": [
    "### DEMO EXAMPLES FROM TEST DATA"
   ]
  },
  {
   "cell_type": "code",
   "execution_count": 99,
   "metadata": {},
   "outputs": [],
   "source": [
    "simplified_raw_example1 = [\n",
    "    [\n",
    "        [17, 18, 20, 25, 137, 174, 242, 249, 251, 255, 251, 229, 193, 166, 104, 58, 25, 13, 3], \n",
    "        [117, 176, 184, 185, 185, 190, 191, 187, 179, 122, 114, 103, 103, 109, 109, 100, 98, 103, 112]\n",
    "    ], \n",
    "    [\n",
    "        [64, 39, 25, 24, 37, 73, 78, 88, 91, 91, 84], \n",
    "        [117, 117, 134, 155, 177, 180, 176, 160, 148, 129, 127]\n",
    "    ], \n",
    "    [\n",
    "        [203, 188, 181, 175, 174, 188, 207, 219, 225, 226, 215], \n",
    "        [122, 120, 127, 137, 160, 169, 173, 161, 145, 133, 128]\n",
    "    ], \n",
    "    [\n",
    "        [110, 111, 151, 154, 154, 143, 108],\n",
    "        [133, 150, 151, 150, 130, 127, 128]\n",
    "    ], \n",
    "    [\n",
    "        [0, 7, 18, 20, 28],\n",
    "        [0, 10, 59, 80, 100]\n",
    "    ]\n",
    "]"
   ]
  },
  {
   "cell_type": "code",
   "execution_count": 100,
   "metadata": {},
   "outputs": [],
   "source": [
    "simplified_raw_example2 = [\n",
    "    [\n",
    "        [174, 145, 106, 38, 11, 4, 4, 15, 29, 78, 169, 207, 246, 253, 255, 241, 227, 152, 123],\n",
    "        [3, 0, 7, 11, 23, 36, 50, 64, 73, 84, 85, 80, 66, 60, 47, 37, 31, 14, 12]\n",
    "    ], \n",
    "    [\n",
    "        [1, 0, 110],\n",
    "        [38, 100, 100]\n",
    "    ], \n",
    "    [\n",
    "        [3, 51, 87, 171, 225, 239],\n",
    "        [95, 99, 107, 117, 117, 110]\n",
    "    ], \n",
    "    [\n",
    "        [241, 253, 251],\n",
    "        [107, 60, 85]\n",
    "    ], \n",
    "    [\n",
    "        [217, 151, 100], \n",
    "        [113, 111, 106]\n",
    "    ]\n",
    "]"
   ]
  },
  {
   "cell_type": "code",
   "execution_count": 101,
   "metadata": {},
   "outputs": [],
   "source": [
    "img1 = draw(simplified_raw_example1, time_color = False)\n",
    "img2 = draw(simplified_raw_example2, time_color = False)"
   ]
  },
  {
   "cell_type": "code",
   "execution_count": 102,
   "metadata": {},
   "outputs": [
    {
     "data": {
      "text/plain": [
       "<matplotlib.image.AxesImage at 0x16c314fd0>"
      ]
     },
     "execution_count": 102,
     "metadata": {},
     "output_type": "execute_result"
    },
    {
     "data": {
      "image/png": "[encoded data removed]",
      "text/plain": [
       "<Figure size 360x360 with 1 Axes>"
      ]
     },
     "metadata": {
      "needs_background": "light"
     },
     "output_type": "display_data"
    }
   ],
   "source": [
    "plt.imshow(img1, cmap='Greys')"
   ]
  },
  {
   "cell_type": "code",
   "execution_count": 103,
   "metadata": {
    "scrolled": true
   },
   "outputs": [
    {
     "data": {
      "text/plain": [
       "<matplotlib.image.AxesImage at 0x169ffa630>"
      ]
     },
     "execution_count": 103,
     "metadata": {},
     "output_type": "execute_result"
    },
    {
     "data": {
      "image/png": "[encoded data removed]",
      "text/plain": [
       "<Figure size 360x360 with 1 Axes>"
      ]
     },
     "metadata": {
      "needs_background": "light"
     },
     "output_type": "display_data"
    }
   ],
   "source": [
    "plt.imshow(img2, cmap='Greys')"
   ]
  },
  {
   "cell_type": "markdown",
   "metadata": {},
   "source": [
    "### DEMO RAW STROKES GENERATED BY THE API"
   ]
  },
  {
   "cell_type": "code",
   "execution_count": 104,
   "metadata": {},
   "outputs": [],
   "source": [
    "raw_strokes =  [[[ 27,  28,  67,  86, 114, 129, 146, 166, 178, 208, 225, 225, 222,\n",
    "        194, 163, 125,  67,  52,  42,  24,  19,  19,  29],\n",
    "       [101,  84,  33, 111,  95,  94, 106, 113,  79,  37, 106, 153, 161,\n",
    "        192, 208, 214, 212, 206, 198, 161, 144, 124,  98]], [[132, 161, 244],\n",
    "       [152, 153, 185]], [[ 73,  53,  36,  18,   9],\n",
    "       [153, 153, 160, 174, 190]]]"
   ]
  },
  {
   "cell_type": "code",
   "execution_count": 105,
   "metadata": {},
   "outputs": [],
   "source": [
    "x = np.zeros((1, SIZE, SIZE, 1))\n",
    "x[0, :, :, 0] = draw(raw_strokes, size=SIZE, lw=6, time_color=True)\n",
    "x = preprocess_input(x).astype(np.float32)"
   ]
  },
  {
   "cell_type": "code",
   "execution_count": 106,
   "metadata": {},
   "outputs": [
    {
     "data": {
      "text/plain": [
       "<matplotlib.image.AxesImage at 0x16c4edd68>"
      ]
     },
     "execution_count": 106,
     "metadata": {},
     "output_type": "execute_result"
    },
    {
     "data": {
      "image/png": "[encoded data removed]",
      "text/plain": [
       "<Figure size 360x360 with 1 Axes>"
      ]
     },
     "metadata": {
      "needs_background": "light"
     },
     "output_type": "display_data"
    }
   ],
   "source": [
    "y = draw(raw_strokes, size=SIZE, lw=6, time_color=True)\n",
    "plt.imshow(y, cmap='Greys')"
   ]
  },
  {
   "cell_type": "code",
   "execution_count": 88,
   "metadata": {},
   "outputs": [],
   "source": [
    "with open ('labels', 'rb') as fp:\n",
    "    labels = pickle.load(fp)"
   ]
  },
  {
   "cell_type": "code",
   "execution_count": 93,
   "metadata": {},
   "outputs": [],
   "source": [
    "model = MobileNet(input_shape=(SIZE, SIZE, 1), alpha=1., weights=None, classes=N_LABELS)\n",
    "model.load_weights('model.h5')"
   ]
  },
  {
   "cell_type": "code",
   "execution_count": 94,
   "metadata": {},
   "outputs": [
    {
     "name": "stdout",
     "output_type": "stream",
     "text": [
      "\r",
      "1/1 [==============================] - 2s 2s/sample\n"
     ]
    },
    {
     "data": {
      "text/plain": [
       "['cat', 'tiger', 'raccoon']"
      ]
     },
     "execution_count": 94,
     "metadata": {},
     "output_type": "execute_result"
    }
   ],
   "source": [
    "predictions = model.predict(x, verbose=1)\n",
    "top_3_preds = top_3_predictions(predictions)\n",
    "top_3_labels = [labels[prediction] for prediction in top_3_preds[0]]\n",
    "top_3_labels"
   ]
  },
  {
   "cell_type": "code",
   "execution_count": null,
   "metadata": {},
   "outputs": [],
   "source": []
  }
 ],
 "metadata": {
  "kernelspec": {
   "display_name": "Python 3",
   "language": "python",
   "name": "python3"
  },
  "language_info": {
   "codemirror_mode": {
    "name": "ipython",
    "version": 3
   },
   "file_extension": ".py",
   "mimetype": "text/x-python",
   "name": "python",
   "nbconvert_exporter": "python",
   "pygments_lexer": "ipython3",
   "version": "3.7.3"
  }
 },
 "nbformat": 4,
 "nbformat_minor": 2
}
