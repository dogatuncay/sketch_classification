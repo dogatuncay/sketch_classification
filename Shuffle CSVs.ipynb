{
 "cells": [
  {
   "cell_type": "markdown",
   "metadata": {},
   "source": [
    "## Shuffle CSVs"
   ]
  },
  {
   "cell_type": "markdown",
   "metadata": {},
   "source": [
    "Shuffle CSV files without loading them in memory. Below code creates the offsets file for each class that has the start and end index of each data point from the csv. You need to create the offsets file once for each class csv and work with them to shuffle moving forward."
   ]
  },
  {
   "cell_type": "code",
   "execution_count": 19,
   "metadata": {},
   "outputs": [],
   "source": [
    "from IPython.core.interactiveshell import InteractiveShell\n",
    "InteractiveShell.ast_node_interactivity = \"all\"\n",
    "import os\n",
    "from tqdm import tqdm\n",
    "import mmap\n",
    "import random\n",
    "import pickle\n",
    "import re\n",
    "from memory_map import MemoryMap"
   ]
  },
  {
   "cell_type": "code",
   "execution_count": 12,
   "metadata": {},
   "outputs": [],
   "source": [
    "INPUT_PATH = './train_simplified'"
   ]
  },
  {
   "cell_type": "markdown",
   "metadata": {},
   "source": [
    "### Create Offsets"
   ]
  },
  {
   "cell_type": "code",
   "execution_count": 20,
   "metadata": {},
   "outputs": [],
   "source": [
    "def get_filenames():\n",
    "    files = os.listdir(INPUT_PATH)\n",
    "    return [f.split('.')[0] for f in files if re.search('\\.csv$', f)]"
   ]
  },
  {
   "cell_type": "code",
   "execution_count": 7,
   "metadata": {
    "scrolled": false
   },
   "outputs": [
    {
     "name": "stdout",
     "output_type": "stream",
     "text": [
      "340\n"
     ]
    }
   ],
   "source": [
    "filenames = get_filenames()\n",
    "print(len(filenames))"
   ]
  },
  {
   "cell_type": "code",
   "execution_count": 8,
   "metadata": {},
   "outputs": [],
   "source": [
    "memmaps = []\n",
    "for index, filename in enumerate(filenames):\n",
    "    memmaps.append(MemoryMap(INPUT_PATH, filename))"
   ]
  },
  {
   "cell_type": "code",
   "execution_count": 9,
   "metadata": {},
   "outputs": [
    {
     "name": "stderr",
     "output_type": "stream",
     "text": [
      "340it [3:37:30, 31.13s/it]\n"
     ]
    }
   ],
   "source": [
    "for file_index, memmap in tqdm(enumerate(memmaps)):\n",
    "    file_metadata = []\n",
    "    num_of_lines = 0\n",
    "    start_index = 0\n",
    "    for index, char in enumerate(memmap):\n",
    "        if char == 10:\n",
    "            num_of_lines += 1\n",
    "            if num_of_lines > 1:\n",
    "                file_metadata.append((start_index, index + 1))\n",
    "            start_index = index + 1\n",
    "    file_metadata.append((start_index, memmap.size-1))\n",
    "    \n",
    "    file_metadata_path = os.path.join(input_path, filenames[file_index] + \".offsets\")\n",
    "    with open(file_metadata_path, 'wb') as fp:\n",
    "        pickle.dump(file_metadata, fp)"
   ]
  },
  {
   "cell_type": "markdown",
   "metadata": {},
   "source": [
    "### Shuffle"
   ]
  },
  {
   "cell_type": "code",
   "execution_count": 13,
   "metadata": {},
   "outputs": [],
   "source": [
    "metadata = []\n",
    "for index, filename in enumerate(filenames):\n",
    "    file_metadata_path = os.path.join(INPUT_PATH, filename + \".offsets\")\n",
    "    with open (file_metadata_path, 'rb') as fp:\n",
    "        offsets = pickle.load(fp)\n",
    "        metadata.extend([(index,) + offset for offset in offsets])"
   ]
  },
  {
   "cell_type": "code",
   "execution_count": 14,
   "metadata": {},
   "outputs": [],
   "source": [
    "def read_line(line_pointer):\n",
    "    (file_index, start, end) = line_pointer\n",
    "    return memmaps[file_index].memmap[start:end-1]"
   ]
  },
  {
   "cell_type": "code",
   "execution_count": 16,
   "metadata": {},
   "outputs": [
    {
     "data": {
      "text/plain": [
       "b'PH,\"[[[80, 76, 79, 99, 128, 164, 176, 186, 189, 186], [86, 73, 56, 29, 14, 14, 25, 52, 95, 119]], [[83, 84, 103, 128, 158, 175, 186, 194, 199, 188], [86, 53, 23, 3, 0, 10, 20, 35, 91, 123]], [[88, 91, 183, 239, 253, 255, 255, 243, 234, 207, 182], [89, 85, 64, 63, 71, 77, 83, 97, 104, 116, 119]], [[83, 190], [91, 129]], [[79, 5, 0, 0, 7, 36, 135, 177, 182, 185], [88, 110, 117, 128, 131, 137, 141, 130, 132, 141]], [[6, 3, 3, 7, 20, 41, 59, 82, 156, 178, 192, 219, 230, 249], [132, 137, 150, 162, 183, 207, 215, 221, 224, 219, 212, 183, 165, 108]], [[43, 10], [139, 172]], [[85, 66, 41], [145, 161, 193]], [[122, 72], [147, 210]], [[169, 140, 110], [143, 172, 216]], [[220, 164, 141], [125, 186, 220]]]\",6384796701818880,True,2017-03-23 11:58:07.536100,basket'"
      ]
     },
     "execution_count": 16,
     "metadata": {},
     "output_type": "execute_result"
    }
   ],
   "source": [
    "shuffled = metadata[:]\n",
    "random.shuffle(shuffled)\n",
    "read_line(shuffled[0])"
   ]
  },
  {
   "cell_type": "code",
   "execution_count": 6,
   "metadata": {},
   "outputs": [],
   "source": [
    "for m in memmaps:\n",
    "    m.close()"
   ]
  },
  {
   "cell_type": "code",
   "execution_count": 18,
   "metadata": {},
   "outputs": [
    {
     "data": {
      "text/plain": [
       "49707919"
      ]
     },
     "execution_count": 18,
     "metadata": {},
     "output_type": "execute_result"
    }
   ],
   "source": [
    "len(shuffled)"
   ]
  }
 ],
 "metadata": {
  "kernelspec": {
   "display_name": "Python 3",
   "language": "python",
   "name": "python3"
  },
  "language_info": {
   "codemirror_mode": {
    "name": "ipython",
    "version": 3
   },
   "file_extension": ".py",
   "mimetype": "text/x-python",
   "name": "python",
   "nbconvert_exporter": "python",
   "pygments_lexer": "ipython3",
   "version": "3.7.3"
  }
 },
 "nbformat": 4,
 "nbformat_minor": 2
}
